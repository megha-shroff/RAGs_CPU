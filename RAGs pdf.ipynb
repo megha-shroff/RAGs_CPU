{
 "cells": [
  {
   "cell_type": "code",
   "execution_count": 2,
   "metadata": {},
   "outputs": [
    {
     "name": "stderr",
     "output_type": "stream",
     "text": [
      "e:\\gptj\\env\\lib\\site-packages\\tqdm\\auto.py:21: TqdmWarning: IProgress not found. Please update jupyter and ipywidgets. See https://ipywidgets.readthedocs.io/en/stable/user_install.html\n",
      "  from .autonotebook import tqdm as notebook_tqdm\n"
     ]
    }
   ],
   "source": [
    "import re\n",
    "import copy\n",
    "import faiss\n",
    "import numpy as np\n",
    "from gpt4all import GPT4All\n",
    "from pdfminer.high_level import extract_pages\n",
    "from sentence_transformers import SentenceTransformer\n",
    "from pdfminer.layout import LTTextContainer, LTChar,LTTextLine"
   ]
  },
  {
   "cell_type": "code",
   "execution_count": 3,
   "metadata": {},
   "outputs": [],
   "source": [
    "data_path = 'E:/pdf folder for RAG/samsung-galaxy-z-flip-5-user-manual-SAM-F946-F731-UM-OS13-US-English.pdf'\n",
    "max_len = 500\n",
    "max_tokens=200"
   ]
  },
  {
   "cell_type": "code",
   "execution_count": 4,
   "metadata": {},
   "outputs": [],
   "source": [
    "def retrieve_data(path):\n",
    "    Extract_Data=[]\n",
    "    font_sizes=[]\n",
    "\n",
    "    for page_layout in extract_pages(path):\n",
    "        for element in page_layout:\n",
    "            if isinstance(element, LTTextContainer):\n",
    "                for text_line in element:\n",
    "                    if isinstance(text_line , LTTextLine):\n",
    "                        for character in text_line:\n",
    "                            if isinstance(character, LTChar):\n",
    "                                Font_size=character.size\n",
    "                                font_name=character.fontname\n",
    "                Extract_Data.append([Font_size,font_name,(element.get_text()),len(element.get_text())])\n",
    "                font_sizes.append(Font_size)\n",
    "\n",
    "    appended_data = copy.deepcopy(Extract_Data)\n",
    "    corpus_of_documents = [lis[2] for lis in appended_data]\n",
    "    return corpus_of_documents"
   ]
  },
  {
   "cell_type": "code",
   "execution_count": 5,
   "metadata": {},
   "outputs": [],
   "source": [
    "def merge_texts(texts, max_len):\n",
    "    merged_text = ''\n",
    "    for text in texts:\n",
    "        if len(merged_text + text) <= max_len:\n",
    "            merged_text += text\n",
    "        else:\n",
    "            break\n",
    "    return merged_text"
   ]
  },
  {
   "cell_type": "code",
   "execution_count": 6,
   "metadata": {},
   "outputs": [],
   "source": [
    "def preprocess_extracted_data(extracted_text):\n",
    "    merged_texts = []\n",
    "    current_text = []\n",
    "    current_length = 0\n",
    "\n",
    "    for text in extracted_text:\n",
    "        if current_length + len(text) <= max_len:\n",
    "            current_text.append(text)\n",
    "            current_length += len(text)\n",
    "        else:\n",
    "            merged_texts.append(merge_texts(current_text, max_len))\n",
    "            current_text = [text]\n",
    "            current_length = len(text)\n",
    "\n",
    "    merged_texts.append(merge_texts(current_text, max_len))\n",
    "\n",
    "    filtered_list = [re.sub(r'\\s+', ' ', text.replace('\\n',' ').strip()) for text in merged_texts if text.strip()]\n",
    "    return filtered_list"
   ]
  },
  {
   "cell_type": "code",
   "execution_count": 7,
   "metadata": {},
   "outputs": [],
   "source": [
    "extracted_text = retrieve_data(data_path)\n",
    "corpus_of_documents = preprocess_extracted_data(extracted_text)"
   ]
  },
  {
   "cell_type": "code",
   "execution_count": 8,
   "metadata": {},
   "outputs": [],
   "source": [
    "model = SentenceTransformer('paraphrase-mpnet-base-v2')\n",
    "vectors = model.encode(corpus_of_documents)\n",
    "vector_dimension = vectors.shape[1]\n",
    "index = faiss.IndexFlatL2(vector_dimension)\n",
    "faiss.normalize_L2(vectors)\n",
    "index.add(vectors)"
   ]
  },
  {
   "cell_type": "code",
   "execution_count": 9,
   "metadata": {},
   "outputs": [],
   "source": [
    "def search(user_input):\n",
    "    search_vector = model.encode(user_input)\n",
    "    _vector = np.array([search_vector])\n",
    "    faiss.normalize_L2(_vector)\n",
    "    k = index.ntotal\n",
    "    distances, ann = index.search(_vector, k=k)\n",
    "    dis , anns = distances[0] , ann[0]\n",
    "    return dis , anns "
   ]
  },
  {
   "cell_type": "code",
   "execution_count": 10,
   "metadata": {},
   "outputs": [
    {
     "name": "stdout",
     "output_type": "stream",
     "text": [
      "relevant data >>>>>>>  • About Camera: Display app and software information. • Contact us: Contact Samsung support through Samsung Members. 62 Camera and Gallery Gallery You can edit and manage pictures and videos. Go to the Gallery to access the visual media stored on your device. ◌ From Apps, tap Gallery. Devices and software are constantly evolving — illustrations are for reference only. 63 Camera and Gallery Open pictures Pictures stored on your device are accessible in the Gallery app.\n"
     ]
    }
   ],
   "source": [
    "user_input = \"Tell me about camera\"\n",
    "dis , ann = search(user_input)\n",
    "relevant_document = corpus_of_documents[ann[0]]\n",
    "print(\"relevant data >>>>>>> \",relevant_document)\n"
   ]
  },
  {
   "cell_type": "code",
   "execution_count": 11,
   "metadata": {},
   "outputs": [],
   "source": [
    "prompt = \"\"\"\n",
    "[INST] \n",
    "Answer the question based only on the following relevant document in {max_tokens} words:\n",
    "{relevant_document}\n",
    "\n",
    "Question: {user_input}\n",
    "[/INST]\n",
    "\"\"\""
   ]
  },
  {
   "cell_type": "code",
   "execution_count": 12,
   "metadata": {},
   "outputs": [
    {
     "name": "stdout",
     "output_type": "stream",
     "text": [
      "input text to llm >>  \n",
      "[INST] \n",
      "Answer the question based only on the following relevant document in 200 words:\n",
      "• About Camera: Display app and software information. • Contact us: Contact Samsung support through Samsung Members. 62 Camera and Gallery Gallery You can edit and manage pictures and videos. Go to the Gallery to access the visual media stored on your device. ◌ From Apps, tap Gallery. Devices and software are constantly evolving — illustrations are for reference only. 63 Camera and Gallery Open pictures Pictures stored on your device are accessible in the Gallery app.\n",
      "\n",
      "Question: Tell me about camera\n",
      "[/INST]\n",
      "\n",
      "Mistral Output :  The Samsung Camera app is a tool that allows users to capture, edit, and manage photos and videos on their devices. To access the camera app, go to \"Apps\" on your device and tap \"Camera.\" The app provides various features such as zoom, flash, and filters for enhancing your photos. Additionally, you can use the camera app to record videos and switch between front-facing and rear-facing cameras. If you have any issues or questions about using the camera app, Samsung Members offers support through their contact us page.\n"
     ]
    }
   ],
   "source": [
    "\n",
    "text = prompt.format(user_input=user_input, relevant_document=relevant_document,max_tokens=max_tokens)\n",
    "\n",
    "print(\"input text to llm >> \", text)\n",
    "\n",
    "gpt_model = GPT4All(\"mistral-7b-instruct-v0.1.Q4_K_M\", allow_download= False)\n",
    "llm_output = gpt_model.generate(prompt=text, max_tokens=max_tokens, temp=0.1)\n",
    "print(\"Mistral Output : \",llm_output)\n"
   ]
  },
  {
   "cell_type": "code",
   "execution_count": null,
   "metadata": {},
   "outputs": [],
   "source": []
  },
  {
   "cell_type": "code",
   "execution_count": null,
   "metadata": {},
   "outputs": [],
   "source": []
  }
 ],
 "metadata": {
  "kernelspec": {
   "display_name": "env",
   "language": "python",
   "name": "python3"
  },
  "language_info": {
   "codemirror_mode": {
    "name": "ipython",
    "version": 3
   },
   "file_extension": ".py",
   "mimetype": "text/x-python",
   "name": "python",
   "nbconvert_exporter": "python",
   "pygments_lexer": "ipython3",
   "version": "3.9.0"
  }
 },
 "nbformat": 4,
 "nbformat_minor": 2
}
